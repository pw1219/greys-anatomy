{
 "cells": [
  {
   "cell_type": "code",
   "execution_count": 1,
   "metadata": {},
   "outputs": [
    {
     "name": "stdout",
     "output_type": "stream",
     "text": [
      "[2, 4, 7]\n",
      "[1, 2, 3, 4, 5, 7, 8, 9, 10, 12, 22]\n"
     ]
    }
   ],
   "source": [
    "\n",
    "inverted_index = {}\t\t\t\t\t\t\t\t#字典，用于保存倒排索引\n",
    "\n",
    "def create_index(index_file):\t\t\t\t\t#根据倒排索引文件创建倒排索引，参数为倒排索引文件\n",
    "\twith open(index_file, \"r\") as f:\n",
    "\t\tfor line in f:\n",
    "\t\t\ttokens = line.split()\t\t\t\t#将一行文本分解成词条序列\n",
    "\t\t\tterm = tokens[0]\t\t\t\t\t#第一个词条为词项\n",
    "\t\t\tposting = []\t\t\t\t\t\t#列表，用于保存倒排记录表\n",
    "\n",
    "\t\t\tfor i in range(1, len(tokens)):\t\t#第二个词条开始为文档id\n",
    "\t\t\t\tposting.append(int(tokens[i]))\t#在列表中追加文档id\n",
    "\t\t\t\n",
    "\t\t\tinverted_index[term] = posting\t\t#将词项和该词项的倒排记录表添加到字典(即倒排索引)中\n",
    "\n",
    "def get_posting(term):\t\t\t\t\t\t\t#从倒排索引获取词项对应的倒排记录表\n",
    "\tposting = []\n",
    "\tif term in inverted_index:\t\t\t\t\t#若词项在字典中\n",
    "\t\tposting = inverted_index[term]\t\t\t#获取词项(键)对应的倒排记录表(值)\n",
    "\n",
    "\treturn posting\n",
    "\n",
    "def intersect(p1, p2):  # 执行倒排记录表的合并操作（AND查询）\n",
    "    answer = []\n",
    "    i, j = 0, 0  \n",
    "\n",
    "    while i < len(p1) and j < len(p2):\n",
    "        if p1[i] == p2[j]:  \n",
    "            answer.append(p1[i])\n",
    "            i += 1\n",
    "            j += 1\n",
    "        elif p1[i] < p2[j]:\n",
    "            i += 1\n",
    "        else:\n",
    "            j += 1\n",
    "\n",
    "    return answer\n",
    "\n",
    "def union(p1, p2):  \n",
    "    answer = []\n",
    "    i, j = 0, 0\n",
    "    while i < len(p1) and j < len(p2):\n",
    "        if p1[i] < p2[j]:\n",
    "            answer.append(p1[i])\n",
    "            i += 1\n",
    "        elif p1[i] > p2[j]:\n",
    "            answer.append(p2[j])\n",
    "            j += 1\n",
    "        else: \n",
    "            answer.append(p1[i])\n",
    "            i += 1\n",
    "            j += 1\n",
    "\n",
    "    while i < len(p1):\n",
    "        answer.append(p1[i])\n",
    "        i += 1\n",
    "    while j < len(p2):\n",
    "        answer.append(p2[j])\n",
    "        j += 1\n",
    "\n",
    "    return answer\n",
    "\n",
    "if __name__ == '__main__':\t\t\t\t\t\t#main函数\n",
    "\tcreate_index(\"inverted_index.txt\")\t\t\t#读取倒排索引文件生成倒排索引\n",
    "\tp1 = get_posting(\"information\")\t\t\t\t#根据词项(参数)从倒排索引获取该词项的倒排记录表\n",
    "\tp2 = get_posting(\"retrieval\")\t\t\t\t#根据词项(参数)从倒排索引获取该词项的倒排记录表\n",
    "\n",
    "\tanswer = intersect(p1, p2)\t\t\t\t\t#对两个倒排记录表执行合并操作(AND查询)\n",
    "\tprint(answer)\t\t\t\t\t\t\t\t#输出合并操作(AND查询)的结果\n",
    "\n",
    "\tanswer = union(p1, p2)\t\t\t\t\t\t#对两个倒排记录表执行并集操作(OR查询)\n",
    "\tprint(answer)\t\t\t\t\t\t\t\t#输出并集操作(OR查询)的结果"
   ]
  }
 ],
 "metadata": {
  "kernelspec": {
   "display_name": "Python 3",
   "language": "python",
   "name": "python3"
  },
  "language_info": {
   "codemirror_mode": {
    "name": "ipython",
    "version": 3
   },
   "file_extension": ".py",
   "mimetype": "text/x-python",
   "name": "python",
   "nbconvert_exporter": "python",
   "pygments_lexer": "ipython3",
   "version": "3.8.8"
  },
  "orig_nbformat": 4
 },
 "nbformat": 4,
 "nbformat_minor": 2
}
